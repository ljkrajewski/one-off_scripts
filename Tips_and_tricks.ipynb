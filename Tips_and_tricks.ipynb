{
  "nbformat": 4,
  "nbformat_minor": 0,
  "metadata": {
    "colab": {
      "provenance": [],
      "authorship_tag": "ABX9TyMGFdnQRDjnCeDGngBGmjtg",
      "include_colab_link": true
    },
    "kernelspec": {
      "name": "python3",
      "display_name": "Python 3"
    },
    "language_info": {
      "name": "python"
    }
  },
  "cells": [
    {
      "cell_type": "markdown",
      "metadata": {
        "id": "view-in-github",
        "colab_type": "text"
      },
      "source": [
        "<a href=\"https://colab.research.google.com/github/ljkrajewski/one-off_scripts/blob/master/Tips_and_tricks.ipynb\" target=\"_parent\"><img src=\"https://colab.research.google.com/assets/colab-badge.svg\" alt=\"Open In Colab\"/></a>"
      ]
    },
    {
      "cell_type": "markdown",
      "source": [
        "# Google Colab Tips and Tricks\n",
        "A collection of code snippets for common actions."
      ],
      "metadata": {
        "id": "rubckJr3V83P"
      }
    },
    {
      "cell_type": "code",
      "execution_count": null,
      "metadata": {
        "id": "k7jkOeDD_h_A"
      },
      "outputs": [],
      "source": [
        "#@title Google reverse proxy\n",
        "LISTENING_PORT = 5000\n",
        "from google.colab.output import eval_js\n",
        "print(eval_js(\"google.colab.kernel.proxyPort(\" + str(LISTENING_PORT) + \")\"))"
      ]
    },
    {
      "cell_type": "code",
      "source": [
        "#@title Uploading files from your local file system\n",
        "from google.colab import files\n",
        "\n",
        "uploaded = files.upload()\n",
        "\n",
        "for fn in uploaded.keys():\n",
        "  print('User uploaded file \"{name}\" with length {length} bytes'.format(\n",
        "      name=fn, length=len(uploaded[fn])))"
      ],
      "metadata": {
        "cellView": "form",
        "id": "sx7Dk2jzV3h6"
      },
      "execution_count": null,
      "outputs": []
    },
    {
      "cell_type": "code",
      "source": [
        "#@title Write a multiline file\n",
        "CONTENTS=\"\"\"\n",
        "::: Put your stuff here :::\n",
        "\"\"\"\n",
        "with open(\"your/filename/here\", \"w\") as f:\n",
        "  f.write(CONTENTS)\n"
      ],
      "metadata": {
        "cellView": "form",
        "id": "d8jnn96R_sZO"
      },
      "execution_count": null,
      "outputs": []
    },
    {
      "cell_type": "code",
      "source": [
        "#@title Fork a background process\n",
        "import multiprocessing\n",
        "import time\n",
        "import os\n",
        "import signal\n",
        "\n",
        "# Function to run the Flask app\n",
        "def run_flask_app():\n",
        "    print(f\"Running Flask app on PID {os.getpid()}\")\n",
        "    os.system('python app.py')\n",
        "\n",
        "# Function to identify & print a forked process's\n",
        "def info(title):\n",
        "    print(title)\n",
        "    print('module name:', __name__)\n",
        "    print('parent process:', os.getppid())\n",
        "    print('process id:', os.getpid())\n",
        "\n",
        "# Start the Flask app in a separate process\n",
        "flask_process = multiprocessing.Process(target=run_flask_app)\n",
        "flask_process.start()\n",
        "\n",
        "# Give the Flask app a few seconds to start\n",
        "time.sleep(5)"
      ],
      "metadata": {
        "cellView": "form",
        "id": "7ZyMiQZXAJ50"
      },
      "execution_count": null,
      "outputs": []
    },
    {
      "cell_type": "code",
      "source": [
        "#@title Install and start a terminal\n",
        "\n",
        "!pip install colab-xterm #https://pypi.org/project/colab-xterm/\n",
        "%load_ext colabxterm\n",
        "%xterm"
      ],
      "metadata": {
        "cellView": "form",
        "id": "F1vg1XxjUpdv"
      },
      "execution_count": null,
      "outputs": []
    }
  ]
}